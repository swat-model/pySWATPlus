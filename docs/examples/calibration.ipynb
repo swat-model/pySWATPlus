{
 "cells": [
  {
   "cell_type": "markdown",
   "metadata": {},
   "source": [
    "# SWAT+ Calibration Example using pySWATPlus and pymoo\n",
    "\n",
    "This notebook demonstrates how to use the `pySWATPlus` package to calibrate SWAT+ model parameters using the `pymoo` optimization library. The example focuses on calibrating parameters in the `plants.plt` file and minimizing a user-defined objective function.\n",
    "\n",
    "---\n",
    "\n",
    "## 1. Import Required Libraries\n",
    "\n",
    "First, we import the necessary libraries, including `pySWATPlus` for SWAT+ model interaction and `pymoo` for optimization.\n"
   ]
  },
  {
   "cell_type": "code",
   "execution_count": null,
   "metadata": {},
   "outputs": [],
   "source": [
    "import numpy as np\n",
    "from pySWATPlus import TxtinoutReader\n",
    "from pySWATPlus import SWATProblem, minimize_pymoo\n",
    "from pymoo.algorithms.soo.nonconvex.cmaes import CMAES\n",
    "from pymoo.termination import get_termination\n",
    "from pymoo.util.normalization import denormalize"
   ]
  },
  {
   "cell_type": "markdown",
   "metadata": {},
   "source": [
    "---\n",
    "## 2. Define the Objective Function\n",
    "\n",
    "The objective function is a user-defined function that evaluates the performance of the SWAT+ model for a given set of parameters. It must:\n",
    "\n",
    "- Accept a single dictionary argument containing the calibration parameters.\n",
    "- Run the SWAT+ model with the provided parameters.\n",
    "- Calculate and return an error metric based on the model's output."
   ]
  },
  {
   "cell_type": "code",
   "execution_count": null,
   "metadata": {},
   "outputs": [],
   "source": [
    "def function_to_minimize(dict_of_params):\n",
    "    \"\"\"\n",
    "    Objective function to minimize. It runs the SWAT+ model with the provided parameters and returns an error metric.\n",
    "\n",
    "    Parameters:\n",
    "        dict_of_params (dict): A dictionary containing the calibration parameters and other necessary information.\n",
    "                               Must include the key 'calibration_params' with the format:\n",
    "                               {filename: (id_col, [(id, col, value)])}\n",
    "\n",
    "    Returns:\n",
    "        Tuple[int, Dict[str, str]]: A tuple containing the error metric and a dictionary with the simulation results.\n",
    "    \"\"\"\n",
    "    # Extract calibration parameters and path to the SWAT+ TxtInOut folder\n",
    "    calibration_params = dict_of_params['calibration_params']\n",
    "    path_to_txtinout = dict_of_params['path_to_txtinout']\n",
    "\n",
    "    # Initialize the TxtinoutReader and copy the SWAT+ project to a temporary directory\n",
    "    reader = TxtinoutReader(path_to_txtinout)\n",
    "    tmp_path = reader.copy_swat(target_dir=None)  # Copy to a temporary directory\n",
    "    reader = TxtinoutReader(tmp_path)\n",
    "\n",
    "    # Run SWAT+ with the provided calibration parameters\n",
    "    txt_in_out_result = reader.run_swat(calibration_params, show_output=False)\n",
    "\n",
    "    # Initialize a new TxtinoutReader to read the results\n",
    "    result_reader = TxtinoutReader(txt_in_out_result)\n",
    "\n",
    "    \"\"\"\n",
    "    The following steps should include:\n",
    "    1. Reading the simulation results.\n",
    "    2. Gathering observed data.\n",
    "    3. Calculating the error metric based on the observed and simulated data.\n",
    "    \"\"\"\n",
    "\n",
    "    # For demonstration, we return a random error metric\n",
    "    rng = np.random.default_rng()\n",
    "    return (rng.random(), {'test_calibration': result_reader.root_folder})"
   ]
  },
  {
   "cell_type": "markdown",
   "metadata": {},
   "source": [
    "---\n",
    "## 3. Set Up the SWAT+ Calibration Problem\n",
    "\n",
    "We define the calibration problem by specifying:\n",
    "- The parameters to calibrate (e.g., ```bm_e``` and ```harv_idx``` in the ```plants.plt``` file).\n",
    "- The objective function (```function_to_minimize```).\n",
    "- Additional arguments such as the path to the SWAT+ TxtInOut folder."
   ]
  },
  {
   "cell_type": "code",
   "execution_count": 18,
   "metadata": {},
   "outputs": [],
   "source": [
    "# Path to the SWAT+ TxtInOut folder\n",
    "txtinout_folder = '/mnt/c/Users/joans/OneDrive/Escriptori/icra/muga_windows'\n",
    "\n",
    "# Define the SWATProblem instance\n",
    "swat_problem = SWATProblem(\n",
    "    params={\n",
    "        'plants.plt': ('name', [('bana', 'bm_e', 40, 50), ('bana', 'harv_idx', 0.4, 0.5)])\n",
    "    },\n",
    "    function_to_evaluate=function_to_minimize,\n",
    "    param_arg_name='calibration_params',\n",
    "    n_workers=4,\n",
    "    parallelization='threads',\n",
    "    debug=False,\n",
    "    path_to_txtinout=txtinout_folder\n",
    ")"
   ]
  },
  {
   "cell_type": "markdown",
   "metadata": {},
   "source": [
    "---\n",
    "## 4. Configure the Optimization Algorithm\n",
    "\n",
    "We use the CMA-ES (Covariance Matrix Adaptation Evolution Strategy) algorithm from pymoo for optimization. The algorithm is configured with:\n",
    "\n",
    "- Initial parameter values (```x0```).\n",
    "- Termination criteria (e.g., maximum number of evaluations)."
   ]
  },
  {
   "cell_type": "code",
   "execution_count": 19,
   "metadata": {},
   "outputs": [],
   "source": [
    "# Define initial parameter values and bounds\n",
    "x0 = denormalize(np.random.random(2), np.array([40, 0.4]), np.array([50, 0.5]))\n",
    "\n",
    "# Set the number of simulations (evaluations)\n",
    "n_simulations = 2\n",
    "\n",
    "# Configure the CMA-ES algorithm\n",
    "algorithm = CMAES(x0=x0, maxfevals=n_simulations)\n",
    "termination = get_termination(\"n_eval\", n_simulations)"
   ]
  },
  {
   "cell_type": "markdown",
   "metadata": {},
   "source": [
    "---\n",
    "## 5. Run the Optimization\n",
    "\n",
    "We run the optimization using the ```minimize_pymoo``` function. The results include:\n",
    "\n",
    "- The best set of parameters (```x```).\n",
    "- The path to the best simulation results (```path```).\n",
    "- The error metric (```error```).\n"
   ]
  },
  {
   "cell_type": "code",
   "execution_count": 20,
   "metadata": {},
   "outputs": [],
   "source": [
    "# Run the optimization\n",
    "x, path, error = minimize_pymoo(\n",
    "    swat_problem,\n",
    "    algorithm,\n",
    "    termination,\n",
    "    verbose=False,\n",
    ")"
   ]
  },
  {
   "cell_type": "markdown",
   "metadata": {},
   "source": [
    "---\n",
    "## 6. Analyze the Results\n",
    "\n",
    "Finally, we analyze the results of the optimization:\n",
    "\n",
    "- The best combination of parameters.\n",
    "- The path to the simulation results.\n",
    "- The error metric."
   ]
  },
  {
   "cell_type": "code",
   "execution_count": 21,
   "metadata": {},
   "outputs": [
    {
     "name": "stdout",
     "output_type": "stream",
     "text": [
      "Best parameters: [42.2548061   0.41222274]\n",
      "Simulation results path: {'test_calibration': PosixPath('/tmp/tmp6gnrs7xq')}\n",
      "Error: 0.2528642743696815\n"
     ]
    }
   ],
   "source": [
    "# Best combination of parameters\n",
    "print(\"Best parameters:\", x)\n",
    "\n",
    "# Path to the best simulation results\n",
    "print(\"Simulation results path:\", path)\n",
    "\n",
    "# Error metric\n",
    "print(\"Error:\", error)"
   ]
  }
 ],
 "metadata": {
  "kernelspec": {
   "display_name": "pyswatplus",
   "language": "python",
   "name": "python3"
  },
  "language_info": {
   "codemirror_mode": {
    "name": "ipython",
    "version": 3
   },
   "file_extension": ".py",
   "mimetype": "text/x-python",
   "name": "python",
   "nbconvert_exporter": "python",
   "pygments_lexer": "ipython3",
   "version": "3.12.1"
  }
 },
 "nbformat": 4,
 "nbformat_minor": 2
}
